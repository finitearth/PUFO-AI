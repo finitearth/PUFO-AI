{
 "cells": [
  {
   "cell_type": "code",
   "execution_count": null,
   "metadata": {},
   "outputs": [],
   "source": [
    "%pip install git+https://github.com/openai/whisper.git"
   ]
  },
  {
   "cell_type": "code",
   "execution_count": 131,
   "metadata": {},
   "outputs": [],
   "source": [
    "import whisper\n",
    "from tqdm import tqdm\n",
    "import numpy as np"
   ]
  },
  {
   "cell_type": "code",
   "execution_count": 132,
   "metadata": {},
   "outputs": [],
   "source": [
    "model = whisper.load_model(\"base\")"
   ]
  },
  {
   "cell_type": "code",
   "execution_count": 133,
   "metadata": {},
   "outputs": [],
   "source": [
    "audio = whisper.load_audio(\"audio/pufo-333.mp3\")\n",
    "length_per_batch = 30*16000\n",
    "n_batches = int(np.ceil(len(audio)/length_per_batch))"
   ]
  },
  {
   "cell_type": "code",
   "execution_count": 134,
   "metadata": {},
   "outputs": [],
   "source": [
    "mels = []\n",
    "\n",
    "# devide audio into batches\n",
    "for i in range(n_batches):\n",
    "    a = audio[i*length_per_batch:(i+1)*length_per_batch]\n",
    "    a = whisper.pad_or_trim(a)\n",
    "    mel = whisper.log_mel_spectrogram(a)\n",
    "    mels.append(mel)"
   ]
  },
  {
   "cell_type": "code",
   "execution_count": 135,
   "metadata": {},
   "outputs": [
    {
     "name": "stderr",
     "output_type": "stream",
     "text": [
      "100%|██████████| 121/121 [12:43<00:00,  6.31s/it]\n"
     ]
    }
   ],
   "source": [
    "transcript = []\n",
    "options = whisper.DecodingOptions(fp16=False, language=\"de\")\n",
    "for mel in tqdm(mels):\n",
    "    result = whisper.decode(model, mel, options)\n",
    "    transcript.append(result.text)"
   ]
  },
  {
   "cell_type": "code",
   "execution_count": null,
   "metadata": {},
   "outputs": [],
   "source": [
    "# transcript = [\"Folge 333 - Truthuhn vom 12. November 2022\"] + transcript\n",
    "transcript = \"\\n\".join(transcript)\n",
    "# save to file\n",
    "with open(\"transkripte/pufo-333.txt\", \"w\") as f:\n",
    "    f.write(transcript)"
   ]
  },
  {
   "cell_type": "code",
   "execution_count": null,
   "metadata": {},
   "outputs": [],
   "source": []
  }
 ],
 "metadata": {
  "kernelspec": {
   "display_name": "Python 3.9.12 ('base')",
   "language": "python",
   "name": "python3"
  },
  "language_info": {
   "codemirror_mode": {
    "name": "ipython",
    "version": 3
   },
   "file_extension": ".py",
   "mimetype": "text/x-python",
   "name": "python",
   "nbconvert_exporter": "python",
   "pygments_lexer": "ipython3",
   "version": "3.9.12"
  },
  "orig_nbformat": 4,
  "vscode": {
   "interpreter": {
    "hash": "2ee8e091e6982b8b5bfcd0521d43d4b9474ad2f0969962a3e5281bf5ca99830d"
   }
  }
 },
 "nbformat": 4,
 "nbformat_minor": 2
}
